{
 "cells": [
  {
   "cell_type": "code",
   "execution_count": 1,
   "metadata": {},
   "outputs": [
    {
     "name": "stderr",
     "output_type": "stream",
     "text": [
      "/home/clement/anaconda3/envs/pythae_37/lib/python3.7/site-packages/tqdm/auto.py:22: TqdmWarning: IProgress not found. Please update jupyter and ipywidgets. See https://ipywidgets.readthedocs.io/en/stable/user_install.html\n",
      "  from .autonotebook import tqdm as notebook_tqdm\n"
     ]
    }
   ],
   "source": [
    "import numpy as np\n",
    "import torch\n",
    "import os\n",
    "\n",
    "%load_ext autoreload\n",
    "%autoreload 2"
   ]
  },
  {
   "cell_type": "code",
   "execution_count": 2,
   "metadata": {},
   "outputs": [],
   "source": [
    "test_data = torch.tensor(\n",
    "        np.load(os.path.join(\"data/mnist\", \"test_data.npz\"))[\"data\"]\n",
    "        / 255.0\n",
    "    ).type(torch.float)#.clamp(1e-5, 1-1e-5)"
   ]
  },
  {
   "cell_type": "code",
   "execution_count": null,
   "metadata": {},
   "outputs": [],
   "source": [
    "test_data = np.loadtxt(os.path.join(\"data/binary_mnist\", \"binarized_mnist_test.amat\"))"
   ]
  },
  {
   "cell_type": "code",
   "execution_count": 2,
   "metadata": {},
   "outputs": [],
   "source": [
    "from pythae.models import AutoModel"
   ]
  },
  {
   "cell_type": "code",
   "execution_count": 7,
   "metadata": {},
   "outputs": [],
   "source": [
    "model = AutoModel.load_from_folder('reproducibility/good_models/mnist/PIWAE_training_2022-09-06_19-10-31/final_model').eval().cuda()"
   ]
  },
  {
   "cell_type": "code",
   "execution_count": 8,
   "metadata": {},
   "outputs": [
    {
     "name": "stderr",
     "output_type": "stream",
     "text": [
      "Uploading PIWAE model to clementchadebec/reproduced_piwae repo in HF hub...\n",
      "Creating reproduced_piwae in the HF hub since it does not exist...\n",
      "Successfully created reproduced_piwae in the HF hub!\n"
     ]
    }
   ],
   "source": [
    "model.push_to_hf_hub('clementchadebec/reproduced_piwae')"
   ]
  },
  {
   "cell_type": "code",
   "execution_count": 3,
   "metadata": {},
   "outputs": [
    {
     "name": "stderr",
     "output_type": "stream",
     "text": [
      "Downloading config file ...\n",
      "Downloading PIWAE files for rebuilding...\n",
      "Successfully downloaded PIWAE model!\n"
     ]
    },
    {
     "data": {
      "text/plain": [
       "False"
      ]
     },
     "execution_count": 3,
     "metadata": {},
     "output_type": "execute_result"
    }
   ],
   "source": [
    "from pythae.models import AutoModel\n",
    "model = AutoModel.load_from_hf_hub('clementchadebec/reproduced_piwae', allow_pickle=True).eval().cuda()\n",
    "model.training"
   ]
  },
  {
   "cell_type": "code",
   "execution_count": 4,
   "metadata": {},
   "outputs": [
    {
     "name": "stderr",
     "output_type": "stream",
     "text": [
      "/home/clement/anaconda3/envs/pythae_37/lib/python3.7/site-packages/ipykernel_launcher.py:5: UserWarning: To copy construct from a tensor, it is recommended to use sourceTensor.clone().detach() or sourceTensor.clone().detach().requires_grad_(True), rather than torch.tensor(sourceTensor).\n",
      "  \"\"\"\n"
     ]
    },
    {
     "name": "stdout",
     "output_type": "stream",
     "text": [
      "[-84.57302521800995]\n",
      "[-84.57302521800995, -84.57829508743286]\n",
      "[-84.57302521800995, -84.57829508743286, -84.577232771492]\n",
      "[-84.57302521800995, -84.57829508743286, -84.577232771492, -84.57393670692444]\n",
      "[-84.57302521800995, -84.57829508743286, -84.577232771492, -84.57393670692444, -84.58700823421478]\n"
     ]
    },
    {
     "data": {
      "text/plain": [
       "(-84.57789960361481, 0.004960492095356239)"
      ]
     },
     "execution_count": 4,
     "metadata": {},
     "output_type": "execute_result"
    }
   ],
   "source": [
    "nll = []\n",
    "#with torch.no_grad():\n",
    "test_data = (test_data > torch.distributions.Uniform(0, 1).sample(test_data.shape).to(test_data.device)).float()\n",
    "for i in range(5):\n",
    "    nll_i = model.get_nll(torch.tensor(test_data).float().cuda(), n_samples=5000, batch_size=5000)\n",
    "    nll.append(nll_i)\n",
    "    print(nll)\n",
    "np.mean(nll), np.std(nll)"
   ]
  },
  {
   "cell_type": "code",
   "execution_count": 5,
   "metadata": {},
   "outputs": [
    {
     "data": {
      "text/plain": [
       "PIWAE(\n",
       "  (decoder): Decoder(\n",
       "    (fc1): Linear(in_features=50, out_features=200, bias=True)\n",
       "    (fc2): Linear(in_features=200, out_features=200, bias=True)\n",
       "    (fc3): Linear(in_features=200, out_features=784, bias=True)\n",
       "  )\n",
       "  (encoder): Encoder(\n",
       "    (fc1): Linear(in_features=784, out_features=200, bias=True)\n",
       "    (fc2): Linear(in_features=200, out_features=200, bias=True)\n",
       "    (embedding): Linear(in_features=200, out_features=50, bias=True)\n",
       "    (log_var): Linear(in_features=200, out_features=50, bias=True)\n",
       "  )\n",
       ")"
      ]
     },
     "execution_count": 5,
     "metadata": {},
     "output_type": "execute_result"
    }
   ],
   "source": [
    "model"
   ]
  },
  {
   "cell_type": "code",
   "execution_count": null,
   "metadata": {},
   "outputs": [],
   "source": [
    "from pythae.models import AutoModel\n",
    "model = AutoModel.load_from_hf_hub('clementchadebec/reproduced_wrapped_poincare_vae', allow_pickle=True).train().cuda()\n",
    "model.training"
   ]
  },
  {
   "cell_type": "code",
   "execution_count": null,
   "metadata": {},
   "outputs": [],
   "source": [
    "nll = []\n",
    "#with torch.no_grad():\n",
    "for i in range(1):\n",
    "    nll_i = model.get_nll(torch.tensor(test_data).float().cuda(), n_samples=5000, batch_size=5000)\n",
    "    nll.append(nll_i)\n",
    "    print(nll)\n",
    "np.mean(nll), np.std(nll)"
   ]
  },
  {
   "cell_type": "code",
   "execution_count": null,
   "metadata": {},
   "outputs": [],
   "source": []
  },
  {
   "cell_type": "code",
   "execution_count": null,
   "metadata": {},
   "outputs": [],
   "source": []
  },
  {
   "cell_type": "code",
   "execution_count": null,
   "metadata": {},
   "outputs": [],
   "source": []
  },
  {
   "cell_type": "code",
   "execution_count": null,
   "metadata": {},
   "outputs": [],
   "source": [
    "model.load_from_folder('/home/clement/Documents/benchmark_VAE/examples/scripts/reproducibility/reproducibility/mnist/PoincareVAE_training_2022-09-03_10-31-48/final_model').training"
   ]
  },
  {
   "cell_type": "code",
   "execution_count": null,
   "metadata": {},
   "outputs": [],
   "source": [
    "model.posterior"
   ]
  },
  {
   "cell_type": "code",
   "execution_count": null,
   "metadata": {},
   "outputs": [],
   "source": [
    "model.push_to_hf_hub('clementchadebec/reproduced_wrapped_poincare_vae')"
   ]
  },
  {
   "cell_type": "code",
   "execution_count": null,
   "metadata": {},
   "outputs": [],
   "source": []
  }
 ],
 "metadata": {
  "interpreter": {
   "hash": "5e51c5ac46389dd7ba2bd8215d251ab84152720d3cad2ff91113d77594821aef"
  },
  "kernelspec": {
   "display_name": "Python 3.8.12 ('pythae')",
   "language": "python",
   "name": "python3"
  },
  "language_info": {
   "codemirror_mode": {
    "name": "ipython",
    "version": 3
   },
   "file_extension": ".py",
   "mimetype": "text/x-python",
   "name": "python",
   "nbconvert_exporter": "python",
   "pygments_lexer": "ipython3",
   "version": "3.7.13"
  },
  "orig_nbformat": 4
 },
 "nbformat": 4,
 "nbformat_minor": 2
}
