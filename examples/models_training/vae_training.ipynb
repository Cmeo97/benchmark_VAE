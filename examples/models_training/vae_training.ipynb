{
 "cells": [
  {
   "cell_type": "code",
   "execution_count": 23,
   "metadata": {},
   "outputs": [],
   "source": [
    "#!pip install pythae"
   ]
  },
  {
   "cell_type": "code",
   "execution_count": 24,
   "metadata": {},
   "outputs": [
    {
     "name": "stdout",
     "output_type": "stream",
     "text": [
      "The autoreload extension is already loaded. To reload it, use:\n",
      "  %reload_ext autoreload\n"
     ]
    }
   ],
   "source": [
    "import torch\n",
    "import torchvision.datasets as datasets\n",
    "\n",
    "%load_ext autoreload\n",
    "%autoreload 2"
   ]
  },
  {
   "cell_type": "code",
   "execution_count": 25,
   "metadata": {},
   "outputs": [],
   "source": [
    "mnist_trainset = datasets.MNIST(root='../../data', train=True, download=True, transform=None)\n",
    "\n",
    "n_samples = 1000\n",
    "train_dataset = mnist_trainset.data[:n_samples].reshape(-1, 1, 28, 28)\n",
    "eval_dataset = mnist_trainset.data[-100:].reshape(-1, 1, 28, 28)"
   ]
  },
  {
   "cell_type": "code",
   "execution_count": 26,
   "metadata": {},
   "outputs": [],
   "source": [
    "from pythae.models import VAE, VAEConfig\n",
    "from pythae.trainers import BaseTrainingConfig\n",
    "from pythae.pipelines.training import TrainingPipeline\n",
    "from pythae.models.nn.benchmarks.mnist import Encoder_VAE_MNIST, Decoder_AE_MNIST"
   ]
  },
  {
   "cell_type": "code",
   "execution_count": 27,
   "metadata": {},
   "outputs": [],
   "source": [
    "config = BaseTrainingConfig(\n",
    "    output_dir='my_model',\n",
    "    learning_rate=1e-3,\n",
    "    batch_size=200, # Set to 200 for demo purposes to speed up (default: 50)\n",
    "    num_epochs=500, # Set to 500 for demo purposes. Augment this in your case to access to better generative model (default: 20000)\n",
    ")\n",
    "\n",
    "\n",
    "model_config = VAEConfig(\n",
    "    input_dim=(1, 28, 28),\n",
    "    latent_dim=10\n",
    ")\n",
    "\n",
    "model = VAE(\n",
    "    model_config=model_config,\n",
    "    encoder=Encoder_VAE_MNIST(model_config), \n",
    "    decoder=Decoder_AE_MNIST(model_config) \n",
    ")"
   ]
  },
  {
   "cell_type": "code",
   "execution_count": 28,
   "metadata": {},
   "outputs": [],
   "source": [
    "pipeline = TrainingPipeline(\n",
    "    training_config=config,\n",
    "    model=model\n",
    ")"
   ]
  },
  {
   "cell_type": "code",
   "execution_count": 30,
   "metadata": {},
   "outputs": [
    {
     "name": "stderr",
     "output_type": "stream",
     "text": [
      "Preprocessing train data...\n",
      "Data normalized using individual_min_max_scaling.\n",
      " -> If this is not the desired behavior pass an instance of DataProcess with 'data_normalization_type' attribute set to desired normalization or None\n",
      "\n",
      "Preprocessing eval data...\n",
      "Data normalized using individual_min_max_scaling.\n",
      " -> If this is not the desired behavior pass an instance of DataProcess with 'data_normalization_type' attribute set to desired normalization or None\n",
      "\n",
      "Model passed sanity check !\n",
      "\n",
      "Model passed sanity check !\n",
      "\n",
      "Model passed sanity check !\n",
      "\n",
      "Model passed sanity check !\n",
      "\n",
      "Model passed sanity check !\n",
      "\n",
      "Model passed sanity check !\n",
      "\n",
      "Model passed sanity check !\n",
      "\n",
      "Model passed sanity check !\n",
      "\n",
      "Model passed sanity check !\n",
      "\n",
      "Model passed sanity check !\n",
      "\n",
      "Model passed sanity check !\n",
      "\n",
      "Created my_model/VAE_training_2021-10-14_12-16-01. \n",
      "Training config, checkpoints and final model will be saved here.\n",
      "\n",
      "Created my_model/VAE_training_2021-10-14_12-16-01. \n",
      "Training config, checkpoints and final model will be saved here.\n",
      "\n",
      "Created my_model/VAE_training_2021-10-14_12-16-01. \n",
      "Training config, checkpoints and final model will be saved here.\n",
      "\n",
      "Created my_model/VAE_training_2021-10-14_12-16-01. \n",
      "Training config, checkpoints and final model will be saved here.\n",
      "\n",
      "Created my_model/VAE_training_2021-10-14_12-16-01. \n",
      "Training config, checkpoints and final model will be saved here.\n",
      "\n",
      "Created my_model/VAE_training_2021-10-14_12-16-01. \n",
      "Training config, checkpoints and final model will be saved here.\n",
      "\n",
      "Created my_model/VAE_training_2021-10-14_12-16-01. \n",
      "Training config, checkpoints and final model will be saved here.\n",
      "\n",
      "Created my_model/VAE_training_2021-10-14_12-16-01. \n",
      "Training config, checkpoints and final model will be saved here.\n",
      "\n",
      "Created my_model/VAE_training_2021-10-14_12-16-01. \n",
      "Training config, checkpoints and final model will be saved here.\n",
      "\n",
      "Created my_model/VAE_training_2021-10-14_12-16-01. \n",
      "Training config, checkpoints and final model will be saved here.\n",
      "\n",
      "Created my_model/VAE_training_2021-10-14_12-16-01. \n",
      "Training config, checkpoints and final model will be saved here.\n",
      "\n",
      "Successfully launched training !\n",
      "Successfully launched training !\n",
      "Successfully launched training !\n",
      "Successfully launched training !\n",
      "Successfully launched training !\n",
      "Successfully launched training !\n",
      "Successfully launched training !\n",
      "Successfully launched training !\n",
      "Successfully launched training !\n",
      "Successfully launched training !\n",
      "Successfully launched training !\n",
      "Training of epoch 1: 100%|██████████| 5/5 [00:20<00:00,  4.15s/batch]\n",
      "Eval of epoch 1: 100%|██████████| 5/5 [00:07<00:00,  1.50s/batch]\n",
      "----------------------------------------------------------------\n",
      "----------------------------------------------------------------\n",
      "----------------------------------------------------------------\n",
      "----------------------------------------------------------------\n",
      "----------------------------------------------------------------\n",
      "----------------------------------------------------------------\n",
      "----------------------------------------------------------------\n",
      "----------------------------------------------------------------\n",
      "----------------------------------------------------------------\n",
      "----------------------------------------------------------------\n",
      "----------------------------------------------------------------\n",
      "Epoch 1: Train loss: 24443.775390625\n",
      "Epoch 1: Train loss: 24443.775390625\n",
      "Epoch 1: Train loss: 24443.775390625\n",
      "Epoch 1: Train loss: 24443.775390625\n",
      "Epoch 1: Train loss: 24443.775390625\n",
      "Epoch 1: Train loss: 24443.775390625\n",
      "Epoch 1: Train loss: 24443.775390625\n",
      "Epoch 1: Train loss: 24443.775390625\n",
      "Epoch 1: Train loss: 24443.775390625\n",
      "Epoch 1: Train loss: 24443.775390625\n",
      "Epoch 1: Train loss: 24443.775390625\n",
      "Epoch 1: Eval loss: 97117.318359375\n",
      "Epoch 1: Eval loss: 97117.318359375\n",
      "Epoch 1: Eval loss: 97117.318359375\n",
      "Epoch 1: Eval loss: 97117.318359375\n",
      "Epoch 1: Eval loss: 97117.318359375\n",
      "Epoch 1: Eval loss: 97117.318359375\n",
      "Epoch 1: Eval loss: 97117.318359375\n",
      "Epoch 1: Eval loss: 97117.318359375\n",
      "Epoch 1: Eval loss: 97117.318359375\n",
      "Epoch 1: Eval loss: 97117.318359375\n",
      "Epoch 1: Eval loss: 97117.318359375\n",
      "----------------------------------------------------------------\n",
      "----------------------------------------------------------------\n",
      "----------------------------------------------------------------\n",
      "----------------------------------------------------------------\n",
      "----------------------------------------------------------------\n",
      "----------------------------------------------------------------\n",
      "----------------------------------------------------------------\n",
      "----------------------------------------------------------------\n",
      "----------------------------------------------------------------\n",
      "----------------------------------------------------------------\n",
      "----------------------------------------------------------------\n",
      "Training of epoch 2: 100%|██████████| 5/5 [00:21<00:00,  4.39s/batch]\n",
      "Eval of epoch 2:  40%|████      | 2/5 [00:03<00:05,  1.82s/batch]"
     ]
    }
   ],
   "source": [
    "pipeline(\n",
    "    train_data=train_dataset,\n",
    "    eval_data=eval_dataset\n",
    ")"
   ]
  },
  {
   "cell_type": "code",
   "execution_count": null,
   "metadata": {},
   "outputs": [],
   "source": [
    "from pythae.pipelines.generation import GenerationPipeline"
   ]
  },
  {
   "cell_type": "code",
   "execution_count": null,
   "metadata": {},
   "outputs": [],
   "source": [
    "last_training = sorted(os.listdir('my_model'))[-1]\n",
    "trained_model = VAE.load_from_folder(os.path.join('my_model', last_training, 'final_model'))"
   ]
  },
  {
   "cell_type": "code",
   "execution_count": null,
   "metadata": {},
   "outputs": [],
   "source": [
    "from pythae.samplers import NormalSampler"
   ]
  },
  {
   "cell_type": "code",
   "execution_count": null,
   "metadata": {},
   "outputs": [],
   "source": [
    "normal_samper = NormalSampler(\n",
    "    model=trained_model\n",
    ")"
   ]
  },
  {
   "cell_type": "code",
   "execution_count": null,
   "metadata": {},
   "outputs": [],
   "source": [
    "gen_data = normal_samper.sample(\n",
    "    num_samples=10\n",
    ")"
   ]
  },
  {
   "cell_type": "code",
   "execution_count": null,
   "metadata": {},
   "outputs": [],
   "source": [
    "import matplotlib.pyplot as plt"
   ]
  },
  {
   "cell_type": "code",
   "execution_count": null,
   "metadata": {},
   "outputs": [],
   "source": [
    "plt.imshow(gen_data[1, 0].detach().numpy())"
   ]
  },
  {
   "cell_type": "code",
   "execution_count": null,
   "metadata": {},
   "outputs": [],
   "source": []
  }
 ],
 "metadata": {
  "interpreter": {
   "hash": "3efa06c4da850a09a4898b773c7e91b0da3286dbbffa369a8099a14a8fa43098"
  },
  "kernelspec": {
   "display_name": "Python 3.8.11 64-bit ('pythae_dev': conda)",
   "name": "python3"
  },
  "language_info": {
   "codemirror_mode": {
    "name": "ipython",
    "version": 3
   },
   "file_extension": ".py",
   "mimetype": "text/x-python",
   "name": "python",
   "nbconvert_exporter": "python",
   "pygments_lexer": "ipython3",
   "version": "3.8.11"
  },
  "orig_nbformat": 4
 },
 "nbformat": 4,
 "nbformat_minor": 2
}
